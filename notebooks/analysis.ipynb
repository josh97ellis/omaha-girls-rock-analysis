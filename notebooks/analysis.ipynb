{
 "cells": [
  {
   "cell_type": "code",
   "execution_count": 29,
   "metadata": {},
   "outputs": [],
   "source": [
    "import sys\n",
    "sys.path.append(r'C:\\Users\\Josh Ellis\\OneDrive - University of Nebraska at Omaha\\COURSES\\FALL_2022\\ISQA8156-820\\course-project')\n",
    "\n",
    "import pandas as pd\n",
    "import scipy.stats as stats\n",
    "import plotly.express as px\n",
    "import plotly.graph_objects as go\n",
    "from statsmodels.formula.api import ols\n",
    "import statsmodels.api as sm\n",
    "\n",
    "from src.statistical_methods import FishersLSD\n",
    "from src.processing import prepost_transform"
   ]
  },
  {
   "cell_type": "markdown",
   "metadata": {},
   "source": [
    "Transform Data"
   ]
  },
  {
   "cell_type": "code",
   "execution_count": 15,
   "metadata": {},
   "outputs": [],
   "source": [
    "data = pd.read_csv(\n",
    "    'C:/Users/Josh Ellis/OneDrive - University of Nebraska at Omaha/' +\n",
    "    'COURSES/FALL_2022/ISQA8156-820/course-project/data/processed/girls_rock_data.csv')\n",
    "\n",
    "data = prepost_transform(data)"
   ]
  },
  {
   "cell_type": "code",
   "execution_count": 17,
   "metadata": {},
   "outputs": [
    {
     "data": {
      "text/html": [
       "<div>\n",
       "<style scoped>\n",
       "    .dataframe tbody tr th:only-of-type {\n",
       "        vertical-align: middle;\n",
       "    }\n",
       "\n",
       "    .dataframe tbody tr th {\n",
       "        vertical-align: top;\n",
       "    }\n",
       "\n",
       "    .dataframe thead th {\n",
       "        text-align: right;\n",
       "    }\n",
       "</style>\n",
       "<table border=\"1\" class=\"dataframe\">\n",
       "  <thead>\n",
       "    <tr style=\"text-align: right;\">\n",
       "      <th></th>\n",
       "      <th>client</th>\n",
       "      <th>age_group</th>\n",
       "      <th>year</th>\n",
       "      <th>age</th>\n",
       "      <th>race/ethnicity</th>\n",
       "      <th>question</th>\n",
       "      <th>score_pretest</th>\n",
       "      <th>score_posttest</th>\n",
       "      <th>delta</th>\n",
       "    </tr>\n",
       "  </thead>\n",
       "  <tbody>\n",
       "    <tr>\n",
       "      <th>0</th>\n",
       "      <td>2018</td>\n",
       "      <td>older group</td>\n",
       "      <td>2018</td>\n",
       "      <td>14</td>\n",
       "      <td>caucasian</td>\n",
       "      <td>15</td>\n",
       "      <td>4.0</td>\n",
       "      <td>7.0</td>\n",
       "      <td>3.0</td>\n",
       "    </tr>\n",
       "    <tr>\n",
       "      <th>1</th>\n",
       "      <td>2018</td>\n",
       "      <td>older group</td>\n",
       "      <td>2018</td>\n",
       "      <td>14</td>\n",
       "      <td>caucasian</td>\n",
       "      <td>15</td>\n",
       "      <td>4.0</td>\n",
       "      <td>7.0</td>\n",
       "      <td>3.0</td>\n",
       "    </tr>\n",
       "    <tr>\n",
       "      <th>2</th>\n",
       "      <td>12018</td>\n",
       "      <td>older group</td>\n",
       "      <td>2018</td>\n",
       "      <td>14</td>\n",
       "      <td>caucasian</td>\n",
       "      <td>15</td>\n",
       "      <td>6.0</td>\n",
       "      <td>5.0</td>\n",
       "      <td>-1.0</td>\n",
       "    </tr>\n",
       "    <tr>\n",
       "      <th>3</th>\n",
       "      <td>12018</td>\n",
       "      <td>older group</td>\n",
       "      <td>2018</td>\n",
       "      <td>14</td>\n",
       "      <td>caucasian</td>\n",
       "      <td>15</td>\n",
       "      <td>6.0</td>\n",
       "      <td>5.0</td>\n",
       "      <td>-1.0</td>\n",
       "    </tr>\n",
       "    <tr>\n",
       "      <th>4</th>\n",
       "      <td>22018</td>\n",
       "      <td>older group</td>\n",
       "      <td>2018</td>\n",
       "      <td>16</td>\n",
       "      <td>caucasian</td>\n",
       "      <td>15</td>\n",
       "      <td>7.0</td>\n",
       "      <td>7.0</td>\n",
       "      <td>0.0</td>\n",
       "    </tr>\n",
       "  </tbody>\n",
       "</table>\n",
       "</div>"
      ],
      "text/plain": [
       "   client    age_group  year  age race/ethnicity question  score_pretest  \\\n",
       "0    2018  older group  2018   14      caucasian       15            4.0   \n",
       "1    2018  older group  2018   14      caucasian       15            4.0   \n",
       "2   12018  older group  2018   14      caucasian       15            6.0   \n",
       "3   12018  older group  2018   14      caucasian       15            6.0   \n",
       "4   22018  older group  2018   16      caucasian       15            7.0   \n",
       "\n",
       "   score_posttest  delta  \n",
       "0             7.0    3.0  \n",
       "1             7.0    3.0  \n",
       "2             5.0   -1.0  \n",
       "3             5.0   -1.0  \n",
       "4             7.0    0.0  "
      ]
     },
     "execution_count": 17,
     "metadata": {},
     "output_type": "execute_result"
    }
   ],
   "source": [
    "data.head()"
   ]
  },
  {
   "cell_type": "markdown",
   "metadata": {},
   "source": [
    "---"
   ]
  },
  {
   "cell_type": "markdown",
   "metadata": {},
   "source": [
    "### Research Question 1\n",
    "Are there significant differences in answer ratings for various outcomes between the younger group and the older group? This question will help OGR better understand which questions significantly improve over time and identify the questions that don’t show a significant change, dependent on the age group of participants."
   ]
  },
  {
   "cell_type": "markdown",
   "metadata": {},
   "source": [
    "***Hypotheses***  \n",
    "$$H_0: \\mu_d \\le 0$$\n",
    "$$H_a: \\mu_d > 0$$"
   ]
  },
  {
   "cell_type": "code",
   "execution_count": 18,
   "metadata": {},
   "outputs": [
    {
     "data": {
      "text/html": [
       "<div>\n",
       "<style scoped>\n",
       "    .dataframe tbody tr th:only-of-type {\n",
       "        vertical-align: middle;\n",
       "    }\n",
       "\n",
       "    .dataframe tbody tr th {\n",
       "        vertical-align: top;\n",
       "    }\n",
       "\n",
       "    .dataframe thead th {\n",
       "        text-align: right;\n",
       "    }\n",
       "</style>\n",
       "<table border=\"1\" class=\"dataframe\">\n",
       "  <thead>\n",
       "    <tr style=\"text-align: right;\">\n",
       "      <th></th>\n",
       "      <th>group</th>\n",
       "      <th>question</th>\n",
       "      <th>pre-test mean</th>\n",
       "      <th>post-test mean</th>\n",
       "      <th>test statistic</th>\n",
       "      <th>p-value</th>\n",
       "      <th>conclusion</th>\n",
       "    </tr>\n",
       "  </thead>\n",
       "  <tbody>\n",
       "    <tr>\n",
       "      <th>0</th>\n",
       "      <td>older group</td>\n",
       "      <td>15</td>\n",
       "      <td>5.8296</td>\n",
       "      <td>5.9926</td>\n",
       "      <td>1.7094</td>\n",
       "      <td>0.0448</td>\n",
       "      <td>Significant</td>\n",
       "    </tr>\n",
       "    <tr>\n",
       "      <th>1</th>\n",
       "      <td>older group</td>\n",
       "      <td>16</td>\n",
       "      <td>5.2963</td>\n",
       "      <td>5.6222</td>\n",
       "      <td>3.2889</td>\n",
       "      <td>0.0006</td>\n",
       "      <td>Significant</td>\n",
       "    </tr>\n",
       "    <tr>\n",
       "      <th>2</th>\n",
       "      <td>older group</td>\n",
       "      <td>17</td>\n",
       "      <td>5.6519</td>\n",
       "      <td>5.8593</td>\n",
       "      <td>1.9150</td>\n",
       "      <td>0.0288</td>\n",
       "      <td>Significant</td>\n",
       "    </tr>\n",
       "    <tr>\n",
       "      <th>3</th>\n",
       "      <td>older group</td>\n",
       "      <td>18</td>\n",
       "      <td>5.8000</td>\n",
       "      <td>6.0370</td>\n",
       "      <td>2.8582</td>\n",
       "      <td>0.0025</td>\n",
       "      <td>Significant</td>\n",
       "    </tr>\n",
       "    <tr>\n",
       "      <th>4</th>\n",
       "      <td>older group</td>\n",
       "      <td>19</td>\n",
       "      <td>5.9407</td>\n",
       "      <td>6.0889</td>\n",
       "      <td>1.7820</td>\n",
       "      <td>0.0385</td>\n",
       "      <td>Significant</td>\n",
       "    </tr>\n",
       "    <tr>\n",
       "      <th>5</th>\n",
       "      <td>older group</td>\n",
       "      <td>20</td>\n",
       "      <td>4.7037</td>\n",
       "      <td>5.2296</td>\n",
       "      <td>4.2917</td>\n",
       "      <td>0.0000</td>\n",
       "      <td>Significant</td>\n",
       "    </tr>\n",
       "    <tr>\n",
       "      <th>6</th>\n",
       "      <td>older group</td>\n",
       "      <td>21</td>\n",
       "      <td>5.9259</td>\n",
       "      <td>5.9185</td>\n",
       "      <td>-0.0733</td>\n",
       "      <td>0.5291</td>\n",
       "      <td>Not Significant</td>\n",
       "    </tr>\n",
       "    <tr>\n",
       "      <th>7</th>\n",
       "      <td>older group</td>\n",
       "      <td>22</td>\n",
       "      <td>4.6815</td>\n",
       "      <td>5.0222</td>\n",
       "      <td>2.6805</td>\n",
       "      <td>0.0041</td>\n",
       "      <td>Significant</td>\n",
       "    </tr>\n",
       "    <tr>\n",
       "      <th>8</th>\n",
       "      <td>older group</td>\n",
       "      <td>23</td>\n",
       "      <td>3.6889</td>\n",
       "      <td>4.3259</td>\n",
       "      <td>5.0734</td>\n",
       "      <td>0.0000</td>\n",
       "      <td>Significant</td>\n",
       "    </tr>\n",
       "    <tr>\n",
       "      <th>9</th>\n",
       "      <td>older group</td>\n",
       "      <td>24</td>\n",
       "      <td>5.0741</td>\n",
       "      <td>5.4963</td>\n",
       "      <td>3.5156</td>\n",
       "      <td>0.0003</td>\n",
       "      <td>Significant</td>\n",
       "    </tr>\n",
       "    <tr>\n",
       "      <th>10</th>\n",
       "      <td>older group</td>\n",
       "      <td>25</td>\n",
       "      <td>5.6519</td>\n",
       "      <td>6.0963</td>\n",
       "      <td>5.2974</td>\n",
       "      <td>0.0000</td>\n",
       "      <td>Significant</td>\n",
       "    </tr>\n",
       "    <tr>\n",
       "      <th>11</th>\n",
       "      <td>older group</td>\n",
       "      <td>1</td>\n",
       "      <td>3.8222</td>\n",
       "      <td>4.4741</td>\n",
       "      <td>7.1434</td>\n",
       "      <td>0.0000</td>\n",
       "      <td>Significant</td>\n",
       "    </tr>\n",
       "    <tr>\n",
       "      <th>12</th>\n",
       "      <td>older group</td>\n",
       "      <td>2</td>\n",
       "      <td>4.5852</td>\n",
       "      <td>4.8593</td>\n",
       "      <td>3.3812</td>\n",
       "      <td>0.0005</td>\n",
       "      <td>Significant</td>\n",
       "    </tr>\n",
       "    <tr>\n",
       "      <th>13</th>\n",
       "      <td>older group</td>\n",
       "      <td>3</td>\n",
       "      <td>4.7556</td>\n",
       "      <td>4.8963</td>\n",
       "      <td>1.6842</td>\n",
       "      <td>0.0472</td>\n",
       "      <td>Significant</td>\n",
       "    </tr>\n",
       "    <tr>\n",
       "      <th>14</th>\n",
       "      <td>younger group</td>\n",
       "      <td>15</td>\n",
       "      <td>6.3913</td>\n",
       "      <td>6.3696</td>\n",
       "      <td>-0.1672</td>\n",
       "      <td>0.5660</td>\n",
       "      <td>Not Significant</td>\n",
       "    </tr>\n",
       "    <tr>\n",
       "      <th>15</th>\n",
       "      <td>younger group</td>\n",
       "      <td>16</td>\n",
       "      <td>5.4348</td>\n",
       "      <td>5.7609</td>\n",
       "      <td>1.4828</td>\n",
       "      <td>0.0725</td>\n",
       "      <td>Not Significant</td>\n",
       "    </tr>\n",
       "    <tr>\n",
       "      <th>16</th>\n",
       "      <td>younger group</td>\n",
       "      <td>17</td>\n",
       "      <td>6.0217</td>\n",
       "      <td>6.0870</td>\n",
       "      <td>0.4645</td>\n",
       "      <td>0.3223</td>\n",
       "      <td>Not Significant</td>\n",
       "    </tr>\n",
       "    <tr>\n",
       "      <th>17</th>\n",
       "      <td>younger group</td>\n",
       "      <td>18</td>\n",
       "      <td>5.6957</td>\n",
       "      <td>5.9348</td>\n",
       "      <td>1.2450</td>\n",
       "      <td>0.1098</td>\n",
       "      <td>Not Significant</td>\n",
       "    </tr>\n",
       "    <tr>\n",
       "      <th>18</th>\n",
       "      <td>younger group</td>\n",
       "      <td>19</td>\n",
       "      <td>5.9783</td>\n",
       "      <td>6.0000</td>\n",
       "      <td>0.1086</td>\n",
       "      <td>0.4570</td>\n",
       "      <td>Not Significant</td>\n",
       "    </tr>\n",
       "    <tr>\n",
       "      <th>19</th>\n",
       "      <td>younger group</td>\n",
       "      <td>20</td>\n",
       "      <td>4.3261</td>\n",
       "      <td>4.4348</td>\n",
       "      <td>0.4623</td>\n",
       "      <td>0.3231</td>\n",
       "      <td>Not Significant</td>\n",
       "    </tr>\n",
       "    <tr>\n",
       "      <th>20</th>\n",
       "      <td>younger group</td>\n",
       "      <td>21</td>\n",
       "      <td>5.5652</td>\n",
       "      <td>5.9783</td>\n",
       "      <td>1.6934</td>\n",
       "      <td>0.0486</td>\n",
       "      <td>Significant</td>\n",
       "    </tr>\n",
       "    <tr>\n",
       "      <th>21</th>\n",
       "      <td>younger group</td>\n",
       "      <td>22</td>\n",
       "      <td>4.1739</td>\n",
       "      <td>4.5217</td>\n",
       "      <td>1.2051</td>\n",
       "      <td>0.1172</td>\n",
       "      <td>Not Significant</td>\n",
       "    </tr>\n",
       "    <tr>\n",
       "      <th>22</th>\n",
       "      <td>younger group</td>\n",
       "      <td>23</td>\n",
       "      <td>3.6304</td>\n",
       "      <td>4.3043</td>\n",
       "      <td>2.7303</td>\n",
       "      <td>0.0045</td>\n",
       "      <td>Significant</td>\n",
       "    </tr>\n",
       "    <tr>\n",
       "      <th>23</th>\n",
       "      <td>younger group</td>\n",
       "      <td>24</td>\n",
       "      <td>5.0435</td>\n",
       "      <td>5.3043</td>\n",
       "      <td>1.1074</td>\n",
       "      <td>0.1370</td>\n",
       "      <td>Not Significant</td>\n",
       "    </tr>\n",
       "    <tr>\n",
       "      <th>24</th>\n",
       "      <td>younger group</td>\n",
       "      <td>25</td>\n",
       "      <td>5.7826</td>\n",
       "      <td>6.1522</td>\n",
       "      <td>1.9452</td>\n",
       "      <td>0.0290</td>\n",
       "      <td>Significant</td>\n",
       "    </tr>\n",
       "    <tr>\n",
       "      <th>25</th>\n",
       "      <td>younger group</td>\n",
       "      <td>1</td>\n",
       "      <td>3.7826</td>\n",
       "      <td>4.5217</td>\n",
       "      <td>3.8865</td>\n",
       "      <td>0.0002</td>\n",
       "      <td>Significant</td>\n",
       "    </tr>\n",
       "    <tr>\n",
       "      <th>26</th>\n",
       "      <td>younger group</td>\n",
       "      <td>2</td>\n",
       "      <td>4.5652</td>\n",
       "      <td>4.7391</td>\n",
       "      <td>1.1349</td>\n",
       "      <td>0.1312</td>\n",
       "      <td>Not Significant</td>\n",
       "    </tr>\n",
       "    <tr>\n",
       "      <th>27</th>\n",
       "      <td>younger group</td>\n",
       "      <td>3</td>\n",
       "      <td>4.6957</td>\n",
       "      <td>4.8478</td>\n",
       "      <td>1.0000</td>\n",
       "      <td>0.1613</td>\n",
       "      <td>Not Significant</td>\n",
       "    </tr>\n",
       "  </tbody>\n",
       "</table>\n",
       "</div>"
      ],
      "text/plain": [
       "            group question  pre-test mean  post-test mean  test statistic  \\\n",
       "0     older group       15         5.8296          5.9926          1.7094   \n",
       "1     older group       16         5.2963          5.6222          3.2889   \n",
       "2     older group       17         5.6519          5.8593          1.9150   \n",
       "3     older group       18         5.8000          6.0370          2.8582   \n",
       "4     older group       19         5.9407          6.0889          1.7820   \n",
       "5     older group       20         4.7037          5.2296          4.2917   \n",
       "6     older group       21         5.9259          5.9185         -0.0733   \n",
       "7     older group       22         4.6815          5.0222          2.6805   \n",
       "8     older group       23         3.6889          4.3259          5.0734   \n",
       "9     older group       24         5.0741          5.4963          3.5156   \n",
       "10    older group       25         5.6519          6.0963          5.2974   \n",
       "11    older group        1         3.8222          4.4741          7.1434   \n",
       "12    older group        2         4.5852          4.8593          3.3812   \n",
       "13    older group        3         4.7556          4.8963          1.6842   \n",
       "14  younger group       15         6.3913          6.3696         -0.1672   \n",
       "15  younger group       16         5.4348          5.7609          1.4828   \n",
       "16  younger group       17         6.0217          6.0870          0.4645   \n",
       "17  younger group       18         5.6957          5.9348          1.2450   \n",
       "18  younger group       19         5.9783          6.0000          0.1086   \n",
       "19  younger group       20         4.3261          4.4348          0.4623   \n",
       "20  younger group       21         5.5652          5.9783          1.6934   \n",
       "21  younger group       22         4.1739          4.5217          1.2051   \n",
       "22  younger group       23         3.6304          4.3043          2.7303   \n",
       "23  younger group       24         5.0435          5.3043          1.1074   \n",
       "24  younger group       25         5.7826          6.1522          1.9452   \n",
       "25  younger group        1         3.7826          4.5217          3.8865   \n",
       "26  younger group        2         4.5652          4.7391          1.1349   \n",
       "27  younger group        3         4.6957          4.8478          1.0000   \n",
       "\n",
       "    p-value       conclusion  \n",
       "0    0.0448      Significant  \n",
       "1    0.0006      Significant  \n",
       "2    0.0288      Significant  \n",
       "3    0.0025      Significant  \n",
       "4    0.0385      Significant  \n",
       "5    0.0000      Significant  \n",
       "6    0.5291  Not Significant  \n",
       "7    0.0041      Significant  \n",
       "8    0.0000      Significant  \n",
       "9    0.0003      Significant  \n",
       "10   0.0000      Significant  \n",
       "11   0.0000      Significant  \n",
       "12   0.0005      Significant  \n",
       "13   0.0472      Significant  \n",
       "14   0.5660  Not Significant  \n",
       "15   0.0725  Not Significant  \n",
       "16   0.3223  Not Significant  \n",
       "17   0.1098  Not Significant  \n",
       "18   0.4570  Not Significant  \n",
       "19   0.3231  Not Significant  \n",
       "20   0.0486      Significant  \n",
       "21   0.1172  Not Significant  \n",
       "22   0.0045      Significant  \n",
       "23   0.1370  Not Significant  \n",
       "24   0.0290      Significant  \n",
       "25   0.0002      Significant  \n",
       "26   0.1312  Not Significant  \n",
       "27   0.1613  Not Significant  "
      ]
     },
     "execution_count": 18,
     "metadata": {},
     "output_type": "execute_result"
    }
   ],
   "source": [
    "age_data = data[['age_group', 'question', 'score_pretest', 'score_posttest', 'delta']].copy()\n",
    "\n",
    "data_li = []\n",
    "for group in age_data['age_group'].unique():\n",
    "    for question in age_data['question'].unique():\n",
    "        test_data = (\n",
    "            age_data[\n",
    "                (age_data['age_group'] == group) &\n",
    "                (age_data['question'] == question)]\n",
    "            [['age_group', 'question', 'score_pretest', 'score_posttest']]\n",
    "        )\n",
    "        data_li.append(test_data)\n",
    "\n",
    "group_li = []\n",
    "question_li = []\n",
    "pretest_mean_li = []\n",
    "posttest_mean_li = []\n",
    "test_statistic_li = []\n",
    "pvalue_li = []\n",
    "conclusion_li = []\n",
    "\n",
    "for sample in data_li:\n",
    "    # Get Pre and Post Test Scores\n",
    "    pretest_scores = sample['score_pretest']\n",
    "    posttest_scores = sample['score_posttest']\n",
    "\n",
    "    # Run dependent t-test\n",
    "    test = stats.ttest_rel(\n",
    "        posttest_scores,\n",
    "        pretest_scores,\n",
    "        alternative='greater')\n",
    "    \n",
    "    # Create Results\n",
    "    pvalue = test[1]\n",
    "    \n",
    "    if pvalue < .05:\n",
    "        conclusion_li.append('Significant')\n",
    "    else:\n",
    "        conclusion_li.append('Not Significant')\n",
    "    \n",
    "    pvalue_li.append(round(pvalue, 4))\n",
    "    test_statistic_li.append(round(test[0], 4))\n",
    "    group_li.append(sample.iloc[0,0])\n",
    "    question_li.append(sample.iloc[0,1])\n",
    "    pretest_mean_li.append(round(pretest_scores.mean(), 4))\n",
    "    posttest_mean_li.append(round(posttest_scores.mean(), 4))\n",
    "    \n",
    "results = pd.DataFrame({\n",
    "    'group': group_li,\n",
    "    'question': question_li,\n",
    "    'pre-test mean': pretest_mean_li,\n",
    "    'post-test mean': posttest_mean_li,\n",
    "    'test statistic': test_statistic_li,\n",
    "    'p-value': pvalue_li,\n",
    "    'conclusion': conclusion_li\n",
    "})\n",
    "\n",
    "results"
   ]
  },
  {
   "cell_type": "code",
   "execution_count": 19,
   "metadata": {},
   "outputs": [
    {
     "data": {
      "text/html": [
       "<div>\n",
       "<style scoped>\n",
       "    .dataframe tbody tr th:only-of-type {\n",
       "        vertical-align: middle;\n",
       "    }\n",
       "\n",
       "    .dataframe tbody tr th {\n",
       "        vertical-align: top;\n",
       "    }\n",
       "\n",
       "    .dataframe thead th {\n",
       "        text-align: right;\n",
       "    }\n",
       "</style>\n",
       "<table border=\"1\" class=\"dataframe\">\n",
       "  <thead>\n",
       "    <tr style=\"text-align: right;\">\n",
       "      <th></th>\n",
       "      <th>question</th>\n",
       "      <th>younger group mean</th>\n",
       "      <th>older group mean</th>\n",
       "      <th>test statistic</th>\n",
       "      <th>p-value</th>\n",
       "      <th>conclusion</th>\n",
       "    </tr>\n",
       "  </thead>\n",
       "  <tbody>\n",
       "    <tr>\n",
       "      <th>0</th>\n",
       "      <td>15</td>\n",
       "      <td>-0.021739</td>\n",
       "      <td>0.162963</td>\n",
       "      <td>-1.025061</td>\n",
       "      <td>0.306718</td>\n",
       "      <td>Not Significant</td>\n",
       "    </tr>\n",
       "    <tr>\n",
       "      <th>1</th>\n",
       "      <td>16</td>\n",
       "      <td>0.326087</td>\n",
       "      <td>0.325926</td>\n",
       "      <td>0.000757</td>\n",
       "      <td>0.999397</td>\n",
       "      <td>Not Significant</td>\n",
       "    </tr>\n",
       "    <tr>\n",
       "      <th>2</th>\n",
       "      <td>17</td>\n",
       "      <td>0.065217</td>\n",
       "      <td>0.207407</td>\n",
       "      <td>-0.700559</td>\n",
       "      <td>0.484488</td>\n",
       "      <td>Not Significant</td>\n",
       "    </tr>\n",
       "    <tr>\n",
       "      <th>3</th>\n",
       "      <td>18</td>\n",
       "      <td>0.239130</td>\n",
       "      <td>0.237037</td>\n",
       "      <td>0.011578</td>\n",
       "      <td>0.990775</td>\n",
       "      <td>Not Significant</td>\n",
       "    </tr>\n",
       "    <tr>\n",
       "      <th>4</th>\n",
       "      <td>19</td>\n",
       "      <td>0.021739</td>\n",
       "      <td>0.148148</td>\n",
       "      <td>-0.686852</td>\n",
       "      <td>0.493065</td>\n",
       "      <td>Not Significant</td>\n",
       "    </tr>\n",
       "    <tr>\n",
       "      <th>5</th>\n",
       "      <td>20</td>\n",
       "      <td>0.108696</td>\n",
       "      <td>0.525926</td>\n",
       "      <td>-1.663988</td>\n",
       "      <td>0.097865</td>\n",
       "      <td>Not Significant</td>\n",
       "    </tr>\n",
       "    <tr>\n",
       "      <th>6</th>\n",
       "      <td>21</td>\n",
       "      <td>0.413043</td>\n",
       "      <td>-0.007407</td>\n",
       "      <td>1.877029</td>\n",
       "      <td>0.062141</td>\n",
       "      <td>Not Significant</td>\n",
       "    </tr>\n",
       "    <tr>\n",
       "      <th>7</th>\n",
       "      <td>22</td>\n",
       "      <td>0.347826</td>\n",
       "      <td>0.340741</td>\n",
       "      <td>0.025756</td>\n",
       "      <td>0.979481</td>\n",
       "      <td>Not Significant</td>\n",
       "    </tr>\n",
       "    <tr>\n",
       "      <th>8</th>\n",
       "      <td>23</td>\n",
       "      <td>0.673913</td>\n",
       "      <td>0.637037</td>\n",
       "      <td>0.142490</td>\n",
       "      <td>0.886853</td>\n",
       "      <td>Not Significant</td>\n",
       "    </tr>\n",
       "    <tr>\n",
       "      <th>9</th>\n",
       "      <td>24</td>\n",
       "      <td>0.260870</td>\n",
       "      <td>0.422222</td>\n",
       "      <td>-0.652273</td>\n",
       "      <td>0.515062</td>\n",
       "      <td>Not Significant</td>\n",
       "    </tr>\n",
       "    <tr>\n",
       "      <th>10</th>\n",
       "      <td>25</td>\n",
       "      <td>0.369565</td>\n",
       "      <td>0.444444</td>\n",
       "      <td>-0.412823</td>\n",
       "      <td>0.680230</td>\n",
       "      <td>Not Significant</td>\n",
       "    </tr>\n",
       "    <tr>\n",
       "      <th>11</th>\n",
       "      <td>1</td>\n",
       "      <td>0.739130</td>\n",
       "      <td>0.651852</td>\n",
       "      <td>0.455471</td>\n",
       "      <td>0.649322</td>\n",
       "      <td>Not Significant</td>\n",
       "    </tr>\n",
       "    <tr>\n",
       "      <th>12</th>\n",
       "      <td>2</td>\n",
       "      <td>0.173913</td>\n",
       "      <td>0.274074</td>\n",
       "      <td>-0.606549</td>\n",
       "      <td>0.544919</td>\n",
       "      <td>Not Significant</td>\n",
       "    </tr>\n",
       "    <tr>\n",
       "      <th>13</th>\n",
       "      <td>3</td>\n",
       "      <td>0.152174</td>\n",
       "      <td>0.140741</td>\n",
       "      <td>0.067873</td>\n",
       "      <td>0.945962</td>\n",
       "      <td>Not Significant</td>\n",
       "    </tr>\n",
       "  </tbody>\n",
       "</table>\n",
       "</div>"
      ],
      "text/plain": [
       "   question  younger group mean  older group mean  test statistic   p-value  \\\n",
       "0        15           -0.021739          0.162963       -1.025061  0.306718   \n",
       "1        16            0.326087          0.325926        0.000757  0.999397   \n",
       "2        17            0.065217          0.207407       -0.700559  0.484488   \n",
       "3        18            0.239130          0.237037        0.011578  0.990775   \n",
       "4        19            0.021739          0.148148       -0.686852  0.493065   \n",
       "5        20            0.108696          0.525926       -1.663988  0.097865   \n",
       "6        21            0.413043         -0.007407        1.877029  0.062141   \n",
       "7        22            0.347826          0.340741        0.025756  0.979481   \n",
       "8        23            0.673913          0.637037        0.142490  0.886853   \n",
       "9        24            0.260870          0.422222       -0.652273  0.515062   \n",
       "10       25            0.369565          0.444444       -0.412823  0.680230   \n",
       "11        1            0.739130          0.651852        0.455471  0.649322   \n",
       "12        2            0.173913          0.274074       -0.606549  0.544919   \n",
       "13        3            0.152174          0.140741        0.067873  0.945962   \n",
       "\n",
       "         conclusion  \n",
       "0   Not Significant  \n",
       "1   Not Significant  \n",
       "2   Not Significant  \n",
       "3   Not Significant  \n",
       "4   Not Significant  \n",
       "5   Not Significant  \n",
       "6   Not Significant  \n",
       "7   Not Significant  \n",
       "8   Not Significant  \n",
       "9   Not Significant  \n",
       "10  Not Significant  \n",
       "11  Not Significant  \n",
       "12  Not Significant  \n",
       "13  Not Significant  "
      ]
     },
     "execution_count": 19,
     "metadata": {},
     "output_type": "execute_result"
    }
   ],
   "source": [
    "import numpy as np\n",
    "\n",
    "y_mean_li = []\n",
    "o_mean_li = []\n",
    "question_li = []\n",
    "pvalue_li = []\n",
    "test_statistic_li = []\n",
    "conclusion_li = []\n",
    "\n",
    "for question in age_data['question'].unique():\n",
    "    younger_delta = age_data[(age_data['question']==question) & (age_data['age_group']=='younger group')]['delta']\n",
    "    older_delta = age_data[(age_data['question']==question) & (age_data['age_group']=='older group')]['delta']\n",
    "    \n",
    "    ttest = stats.ttest_ind(younger_delta, older_delta)\n",
    "    test_statistic = ttest[0]\n",
    "    pvalue = ttest[1]\n",
    "    \n",
    "    if pvalue < .05:\n",
    "        conclusion_li.append('Significant')\n",
    "    else:\n",
    "        conclusion_li.append('Not Significant')\n",
    "    \n",
    "    question_li.append(question)\n",
    "    y_mean_li.append(np.mean(younger_delta))\n",
    "    o_mean_li.append(np.mean(older_delta))\n",
    "    test_statistic_li.append(test_statistic)\n",
    "    pvalue_li.append(pvalue)\n",
    "    \n",
    "results = pd.DataFrame({\n",
    "    'question': question_li,\n",
    "    'younger group mean': y_mean_li,\n",
    "    'older group mean': o_mean_li,\n",
    "    'test statistic': test_statistic_li,\n",
    "    'p-value': pvalue_li,\n",
    "    'conclusion': conclusion_li\n",
    "})\n",
    "\n",
    "results"
   ]
  },
  {
   "cell_type": "markdown",
   "metadata": {},
   "source": [
    "---"
   ]
  },
  {
   "cell_type": "markdown",
   "metadata": {},
   "source": [
    "### Question 2: One way ANOVA\n",
    "Does the race/ethnicity of participants influence the change in scores for various questions over time?"
   ]
  },
  {
   "cell_type": "code",
   "execution_count": 30,
   "metadata": {},
   "outputs": [
    {
     "data": {
      "text/html": [
       "<div>\n",
       "<style scoped>\n",
       "    .dataframe tbody tr th:only-of-type {\n",
       "        vertical-align: middle;\n",
       "    }\n",
       "\n",
       "    .dataframe tbody tr th {\n",
       "        vertical-align: top;\n",
       "    }\n",
       "\n",
       "    .dataframe thead th {\n",
       "        text-align: right;\n",
       "    }\n",
       "</style>\n",
       "<table border=\"1\" class=\"dataframe\">\n",
       "  <thead>\n",
       "    <tr style=\"text-align: right;\">\n",
       "      <th></th>\n",
       "      <th>question</th>\n",
       "      <th>pvalue</th>\n",
       "      <th>result</th>\n",
       "    </tr>\n",
       "  </thead>\n",
       "  <tbody>\n",
       "    <tr>\n",
       "      <th>0</th>\n",
       "      <td>15</td>\n",
       "      <td>0.409</td>\n",
       "      <td>Not Significant</td>\n",
       "    </tr>\n",
       "    <tr>\n",
       "      <th>1</th>\n",
       "      <td>16</td>\n",
       "      <td>0.408</td>\n",
       "      <td>Not Significant</td>\n",
       "    </tr>\n",
       "    <tr>\n",
       "      <th>2</th>\n",
       "      <td>17</td>\n",
       "      <td>0.437</td>\n",
       "      <td>Not Significant</td>\n",
       "    </tr>\n",
       "    <tr>\n",
       "      <th>3</th>\n",
       "      <td>18</td>\n",
       "      <td>0.131</td>\n",
       "      <td>Not Significant</td>\n",
       "    </tr>\n",
       "    <tr>\n",
       "      <th>4</th>\n",
       "      <td>19</td>\n",
       "      <td>0.618</td>\n",
       "      <td>Not Significant</td>\n",
       "    </tr>\n",
       "    <tr>\n",
       "      <th>5</th>\n",
       "      <td>20</td>\n",
       "      <td>0.434</td>\n",
       "      <td>Not Significant</td>\n",
       "    </tr>\n",
       "    <tr>\n",
       "      <th>6</th>\n",
       "      <td>21</td>\n",
       "      <td>0.026</td>\n",
       "      <td>Significant</td>\n",
       "    </tr>\n",
       "    <tr>\n",
       "      <th>7</th>\n",
       "      <td>22</td>\n",
       "      <td>0.063</td>\n",
       "      <td>Not Significant</td>\n",
       "    </tr>\n",
       "    <tr>\n",
       "      <th>8</th>\n",
       "      <td>23</td>\n",
       "      <td>0.025</td>\n",
       "      <td>Significant</td>\n",
       "    </tr>\n",
       "    <tr>\n",
       "      <th>9</th>\n",
       "      <td>24</td>\n",
       "      <td>0.301</td>\n",
       "      <td>Not Significant</td>\n",
       "    </tr>\n",
       "    <tr>\n",
       "      <th>10</th>\n",
       "      <td>25</td>\n",
       "      <td>0.328</td>\n",
       "      <td>Not Significant</td>\n",
       "    </tr>\n",
       "    <tr>\n",
       "      <th>11</th>\n",
       "      <td>1</td>\n",
       "      <td>0.167</td>\n",
       "      <td>Not Significant</td>\n",
       "    </tr>\n",
       "    <tr>\n",
       "      <th>12</th>\n",
       "      <td>2</td>\n",
       "      <td>0.704</td>\n",
       "      <td>Not Significant</td>\n",
       "    </tr>\n",
       "    <tr>\n",
       "      <th>13</th>\n",
       "      <td>3</td>\n",
       "      <td>0.265</td>\n",
       "      <td>Not Significant</td>\n",
       "    </tr>\n",
       "  </tbody>\n",
       "</table>\n",
       "</div>"
      ],
      "text/plain": [
       "   question  pvalue           result\n",
       "0        15   0.409  Not Significant\n",
       "1        16   0.408  Not Significant\n",
       "2        17   0.437  Not Significant\n",
       "3        18   0.131  Not Significant\n",
       "4        19   0.618  Not Significant\n",
       "5        20   0.434  Not Significant\n",
       "6        21   0.026      Significant\n",
       "7        22   0.063  Not Significant\n",
       "8        23   0.025      Significant\n",
       "9        24   0.301  Not Significant\n",
       "10       25   0.328  Not Significant\n",
       "11        1   0.167  Not Significant\n",
       "12        2   0.704  Not Significant\n",
       "13        3   0.265  Not Significant"
      ]
     },
     "execution_count": 30,
     "metadata": {},
     "output_type": "execute_result"
    }
   ],
   "source": [
    "race_data = data[['race/ethnicity', 'question', 'score_pretest', 'score_posttest', 'delta']].copy()\n",
    "race_data.rename(columns={'race/ethnicity': 'race'}, inplace=True)\n",
    "\n",
    "question_col = []\n",
    "pvalue_col = []\n",
    "result_col = []\n",
    "\n",
    "for question in race_data['question'].unique():    \n",
    "    anova_race = race_data[race_data['question']==question]\n",
    "    \n",
    "    anova_race = anova_race[['race', 'delta']]\n",
    "\n",
    "    model = ols('delta ~ C(race)', data=anova_race).fit()\n",
    "    anova_table = sm.stats.anova_lm(model,typ=1)\n",
    "    pvalue = round(anova_table.iloc[0,-1],3)\n",
    "    \n",
    "    question_col.append(question)\n",
    "    pvalue_col.append(pvalue)\n",
    "    \n",
    "    if pvalue > 0.05:\n",
    "        result_col.append('Not Significant')\n",
    "    else:\n",
    "        result_col.append('Significant')\n",
    "\n",
    "results_df = pd.DataFrame({\n",
    "    'question': question_col,\n",
    "    'pvalue': pvalue_col,\n",
    "    'result': result_col\n",
    "})\n",
    "\n",
    "results_df"
   ]
  },
  {
   "cell_type": "code",
   "execution_count": 31,
   "metadata": {},
   "outputs": [
    {
     "data": {
      "application/vnd.plotly.v1+json": {
       "config": {
        "plotlyServerURL": "https://plot.ly"
       },
       "data": [
        {
         "alignmentgroup": "True",
         "hovertemplate": "result=Not Significant<br>question=%{x}<br>pvalue=%{y}<extra></extra>",
         "legendgroup": "Not Significant",
         "marker": {
          "color": "#1F77B4",
          "pattern": {
           "shape": ""
          }
         },
         "name": "Not Significant",
         "offsetgroup": "Not Significant",
         "orientation": "v",
         "showlegend": true,
         "textposition": "auto",
         "texttemplate": "%{y}",
         "type": "bar",
         "x": [
          "15",
          "16",
          "17",
          "18",
          "19",
          "20",
          "22",
          "24",
          "25",
          "1",
          "2",
          "3"
         ],
         "xaxis": "x",
         "y": [
          0.409,
          0.408,
          0.437,
          0.131,
          0.618,
          0.434,
          0.063,
          0.301,
          0.328,
          0.167,
          0.704,
          0.265
         ],
         "yaxis": "y"
        },
        {
         "alignmentgroup": "True",
         "hovertemplate": "result=Significant<br>question=%{x}<br>pvalue=%{y}<extra></extra>",
         "legendgroup": "Significant",
         "marker": {
          "color": "#FF7F0E",
          "pattern": {
           "shape": ""
          }
         },
         "name": "Significant",
         "offsetgroup": "Significant",
         "orientation": "v",
         "showlegend": true,
         "textposition": "auto",
         "texttemplate": "%{y}",
         "type": "bar",
         "x": [
          "21",
          "23"
         ],
         "xaxis": "x",
         "y": [
          0.026,
          0.025
         ],
         "yaxis": "y"
        }
       ],
       "layout": {
        "barmode": "relative",
        "legend": {
         "title": {
          "text": "result"
         },
         "tracegroupgap": 0
        },
        "template": {
         "data": {
          "bar": [
           {
            "error_x": {
             "color": "rgb(36,36,36)"
            },
            "error_y": {
             "color": "rgb(36,36,36)"
            },
            "marker": {
             "line": {
              "color": "white",
              "width": 0.5
             },
             "pattern": {
              "fillmode": "overlay",
              "size": 10,
              "solidity": 0.2
             }
            },
            "type": "bar"
           }
          ],
          "barpolar": [
           {
            "marker": {
             "line": {
              "color": "white",
              "width": 0.5
             },
             "pattern": {
              "fillmode": "overlay",
              "size": 10,
              "solidity": 0.2
             }
            },
            "type": "barpolar"
           }
          ],
          "carpet": [
           {
            "aaxis": {
             "endlinecolor": "rgb(36,36,36)",
             "gridcolor": "white",
             "linecolor": "white",
             "minorgridcolor": "white",
             "startlinecolor": "rgb(36,36,36)"
            },
            "baxis": {
             "endlinecolor": "rgb(36,36,36)",
             "gridcolor": "white",
             "linecolor": "white",
             "minorgridcolor": "white",
             "startlinecolor": "rgb(36,36,36)"
            },
            "type": "carpet"
           }
          ],
          "choropleth": [
           {
            "colorbar": {
             "outlinewidth": 1,
             "tickcolor": "rgb(36,36,36)",
             "ticks": "outside"
            },
            "type": "choropleth"
           }
          ],
          "contour": [
           {
            "colorbar": {
             "outlinewidth": 1,
             "tickcolor": "rgb(36,36,36)",
             "ticks": "outside"
            },
            "colorscale": [
             [
              0,
              "#440154"
             ],
             [
              0.1111111111111111,
              "#482878"
             ],
             [
              0.2222222222222222,
              "#3e4989"
             ],
             [
              0.3333333333333333,
              "#31688e"
             ],
             [
              0.4444444444444444,
              "#26828e"
             ],
             [
              0.5555555555555556,
              "#1f9e89"
             ],
             [
              0.6666666666666666,
              "#35b779"
             ],
             [
              0.7777777777777778,
              "#6ece58"
             ],
             [
              0.8888888888888888,
              "#b5de2b"
             ],
             [
              1,
              "#fde725"
             ]
            ],
            "type": "contour"
           }
          ],
          "contourcarpet": [
           {
            "colorbar": {
             "outlinewidth": 1,
             "tickcolor": "rgb(36,36,36)",
             "ticks": "outside"
            },
            "type": "contourcarpet"
           }
          ],
          "heatmap": [
           {
            "colorbar": {
             "outlinewidth": 1,
             "tickcolor": "rgb(36,36,36)",
             "ticks": "outside"
            },
            "colorscale": [
             [
              0,
              "#440154"
             ],
             [
              0.1111111111111111,
              "#482878"
             ],
             [
              0.2222222222222222,
              "#3e4989"
             ],
             [
              0.3333333333333333,
              "#31688e"
             ],
             [
              0.4444444444444444,
              "#26828e"
             ],
             [
              0.5555555555555556,
              "#1f9e89"
             ],
             [
              0.6666666666666666,
              "#35b779"
             ],
             [
              0.7777777777777778,
              "#6ece58"
             ],
             [
              0.8888888888888888,
              "#b5de2b"
             ],
             [
              1,
              "#fde725"
             ]
            ],
            "type": "heatmap"
           }
          ],
          "heatmapgl": [
           {
            "colorbar": {
             "outlinewidth": 1,
             "tickcolor": "rgb(36,36,36)",
             "ticks": "outside"
            },
            "colorscale": [
             [
              0,
              "#440154"
             ],
             [
              0.1111111111111111,
              "#482878"
             ],
             [
              0.2222222222222222,
              "#3e4989"
             ],
             [
              0.3333333333333333,
              "#31688e"
             ],
             [
              0.4444444444444444,
              "#26828e"
             ],
             [
              0.5555555555555556,
              "#1f9e89"
             ],
             [
              0.6666666666666666,
              "#35b779"
             ],
             [
              0.7777777777777778,
              "#6ece58"
             ],
             [
              0.8888888888888888,
              "#b5de2b"
             ],
             [
              1,
              "#fde725"
             ]
            ],
            "type": "heatmapgl"
           }
          ],
          "histogram": [
           {
            "marker": {
             "line": {
              "color": "white",
              "width": 0.6
             }
            },
            "type": "histogram"
           }
          ],
          "histogram2d": [
           {
            "colorbar": {
             "outlinewidth": 1,
             "tickcolor": "rgb(36,36,36)",
             "ticks": "outside"
            },
            "colorscale": [
             [
              0,
              "#440154"
             ],
             [
              0.1111111111111111,
              "#482878"
             ],
             [
              0.2222222222222222,
              "#3e4989"
             ],
             [
              0.3333333333333333,
              "#31688e"
             ],
             [
              0.4444444444444444,
              "#26828e"
             ],
             [
              0.5555555555555556,
              "#1f9e89"
             ],
             [
              0.6666666666666666,
              "#35b779"
             ],
             [
              0.7777777777777778,
              "#6ece58"
             ],
             [
              0.8888888888888888,
              "#b5de2b"
             ],
             [
              1,
              "#fde725"
             ]
            ],
            "type": "histogram2d"
           }
          ],
          "histogram2dcontour": [
           {
            "colorbar": {
             "outlinewidth": 1,
             "tickcolor": "rgb(36,36,36)",
             "ticks": "outside"
            },
            "colorscale": [
             [
              0,
              "#440154"
             ],
             [
              0.1111111111111111,
              "#482878"
             ],
             [
              0.2222222222222222,
              "#3e4989"
             ],
             [
              0.3333333333333333,
              "#31688e"
             ],
             [
              0.4444444444444444,
              "#26828e"
             ],
             [
              0.5555555555555556,
              "#1f9e89"
             ],
             [
              0.6666666666666666,
              "#35b779"
             ],
             [
              0.7777777777777778,
              "#6ece58"
             ],
             [
              0.8888888888888888,
              "#b5de2b"
             ],
             [
              1,
              "#fde725"
             ]
            ],
            "type": "histogram2dcontour"
           }
          ],
          "mesh3d": [
           {
            "colorbar": {
             "outlinewidth": 1,
             "tickcolor": "rgb(36,36,36)",
             "ticks": "outside"
            },
            "type": "mesh3d"
           }
          ],
          "parcoords": [
           {
            "line": {
             "colorbar": {
              "outlinewidth": 1,
              "tickcolor": "rgb(36,36,36)",
              "ticks": "outside"
             }
            },
            "type": "parcoords"
           }
          ],
          "pie": [
           {
            "automargin": true,
            "type": "pie"
           }
          ],
          "scatter": [
           {
            "marker": {
             "colorbar": {
              "outlinewidth": 1,
              "tickcolor": "rgb(36,36,36)",
              "ticks": "outside"
             }
            },
            "type": "scatter"
           }
          ],
          "scatter3d": [
           {
            "line": {
             "colorbar": {
              "outlinewidth": 1,
              "tickcolor": "rgb(36,36,36)",
              "ticks": "outside"
             }
            },
            "marker": {
             "colorbar": {
              "outlinewidth": 1,
              "tickcolor": "rgb(36,36,36)",
              "ticks": "outside"
             }
            },
            "type": "scatter3d"
           }
          ],
          "scattercarpet": [
           {
            "marker": {
             "colorbar": {
              "outlinewidth": 1,
              "tickcolor": "rgb(36,36,36)",
              "ticks": "outside"
             }
            },
            "type": "scattercarpet"
           }
          ],
          "scattergeo": [
           {
            "marker": {
             "colorbar": {
              "outlinewidth": 1,
              "tickcolor": "rgb(36,36,36)",
              "ticks": "outside"
             }
            },
            "type": "scattergeo"
           }
          ],
          "scattergl": [
           {
            "marker": {
             "colorbar": {
              "outlinewidth": 1,
              "tickcolor": "rgb(36,36,36)",
              "ticks": "outside"
             }
            },
            "type": "scattergl"
           }
          ],
          "scattermapbox": [
           {
            "marker": {
             "colorbar": {
              "outlinewidth": 1,
              "tickcolor": "rgb(36,36,36)",
              "ticks": "outside"
             }
            },
            "type": "scattermapbox"
           }
          ],
          "scatterpolar": [
           {
            "marker": {
             "colorbar": {
              "outlinewidth": 1,
              "tickcolor": "rgb(36,36,36)",
              "ticks": "outside"
             }
            },
            "type": "scatterpolar"
           }
          ],
          "scatterpolargl": [
           {
            "marker": {
             "colorbar": {
              "outlinewidth": 1,
              "tickcolor": "rgb(36,36,36)",
              "ticks": "outside"
             }
            },
            "type": "scatterpolargl"
           }
          ],
          "scatterternary": [
           {
            "marker": {
             "colorbar": {
              "outlinewidth": 1,
              "tickcolor": "rgb(36,36,36)",
              "ticks": "outside"
             }
            },
            "type": "scatterternary"
           }
          ],
          "surface": [
           {
            "colorbar": {
             "outlinewidth": 1,
             "tickcolor": "rgb(36,36,36)",
             "ticks": "outside"
            },
            "colorscale": [
             [
              0,
              "#440154"
             ],
             [
              0.1111111111111111,
              "#482878"
             ],
             [
              0.2222222222222222,
              "#3e4989"
             ],
             [
              0.3333333333333333,
              "#31688e"
             ],
             [
              0.4444444444444444,
              "#26828e"
             ],
             [
              0.5555555555555556,
              "#1f9e89"
             ],
             [
              0.6666666666666666,
              "#35b779"
             ],
             [
              0.7777777777777778,
              "#6ece58"
             ],
             [
              0.8888888888888888,
              "#b5de2b"
             ],
             [
              1,
              "#fde725"
             ]
            ],
            "type": "surface"
           }
          ],
          "table": [
           {
            "cells": {
             "fill": {
              "color": "rgb(237,237,237)"
             },
             "line": {
              "color": "white"
             }
            },
            "header": {
             "fill": {
              "color": "rgb(217,217,217)"
             },
             "line": {
              "color": "white"
             }
            },
            "type": "table"
           }
          ]
         },
         "layout": {
          "annotationdefaults": {
           "arrowhead": 0,
           "arrowwidth": 1
          },
          "autotypenumbers": "strict",
          "coloraxis": {
           "colorbar": {
            "outlinewidth": 1,
            "tickcolor": "rgb(36,36,36)",
            "ticks": "outside"
           }
          },
          "colorscale": {
           "diverging": [
            [
             0,
             "rgb(103,0,31)"
            ],
            [
             0.1,
             "rgb(178,24,43)"
            ],
            [
             0.2,
             "rgb(214,96,77)"
            ],
            [
             0.3,
             "rgb(244,165,130)"
            ],
            [
             0.4,
             "rgb(253,219,199)"
            ],
            [
             0.5,
             "rgb(247,247,247)"
            ],
            [
             0.6,
             "rgb(209,229,240)"
            ],
            [
             0.7,
             "rgb(146,197,222)"
            ],
            [
             0.8,
             "rgb(67,147,195)"
            ],
            [
             0.9,
             "rgb(33,102,172)"
            ],
            [
             1,
             "rgb(5,48,97)"
            ]
           ],
           "sequential": [
            [
             0,
             "#440154"
            ],
            [
             0.1111111111111111,
             "#482878"
            ],
            [
             0.2222222222222222,
             "#3e4989"
            ],
            [
             0.3333333333333333,
             "#31688e"
            ],
            [
             0.4444444444444444,
             "#26828e"
            ],
            [
             0.5555555555555556,
             "#1f9e89"
            ],
            [
             0.6666666666666666,
             "#35b779"
            ],
            [
             0.7777777777777778,
             "#6ece58"
            ],
            [
             0.8888888888888888,
             "#b5de2b"
            ],
            [
             1,
             "#fde725"
            ]
           ],
           "sequentialminus": [
            [
             0,
             "#440154"
            ],
            [
             0.1111111111111111,
             "#482878"
            ],
            [
             0.2222222222222222,
             "#3e4989"
            ],
            [
             0.3333333333333333,
             "#31688e"
            ],
            [
             0.4444444444444444,
             "#26828e"
            ],
            [
             0.5555555555555556,
             "#1f9e89"
            ],
            [
             0.6666666666666666,
             "#35b779"
            ],
            [
             0.7777777777777778,
             "#6ece58"
            ],
            [
             0.8888888888888888,
             "#b5de2b"
            ],
            [
             1,
             "#fde725"
            ]
           ]
          },
          "colorway": [
           "#1F77B4",
           "#FF7F0E",
           "#2CA02C",
           "#D62728",
           "#9467BD",
           "#8C564B",
           "#E377C2",
           "#7F7F7F",
           "#BCBD22",
           "#17BECF"
          ],
          "font": {
           "color": "rgb(36,36,36)"
          },
          "geo": {
           "bgcolor": "white",
           "lakecolor": "white",
           "landcolor": "white",
           "showlakes": true,
           "showland": true,
           "subunitcolor": "white"
          },
          "hoverlabel": {
           "align": "left"
          },
          "hovermode": "closest",
          "mapbox": {
           "style": "light"
          },
          "paper_bgcolor": "white",
          "plot_bgcolor": "white",
          "polar": {
           "angularaxis": {
            "gridcolor": "rgb(232,232,232)",
            "linecolor": "rgb(36,36,36)",
            "showgrid": false,
            "showline": true,
            "ticks": "outside"
           },
           "bgcolor": "white",
           "radialaxis": {
            "gridcolor": "rgb(232,232,232)",
            "linecolor": "rgb(36,36,36)",
            "showgrid": false,
            "showline": true,
            "ticks": "outside"
           }
          },
          "scene": {
           "xaxis": {
            "backgroundcolor": "white",
            "gridcolor": "rgb(232,232,232)",
            "gridwidth": 2,
            "linecolor": "rgb(36,36,36)",
            "showbackground": true,
            "showgrid": false,
            "showline": true,
            "ticks": "outside",
            "zeroline": false,
            "zerolinecolor": "rgb(36,36,36)"
           },
           "yaxis": {
            "backgroundcolor": "white",
            "gridcolor": "rgb(232,232,232)",
            "gridwidth": 2,
            "linecolor": "rgb(36,36,36)",
            "showbackground": true,
            "showgrid": false,
            "showline": true,
            "ticks": "outside",
            "zeroline": false,
            "zerolinecolor": "rgb(36,36,36)"
           },
           "zaxis": {
            "backgroundcolor": "white",
            "gridcolor": "rgb(232,232,232)",
            "gridwidth": 2,
            "linecolor": "rgb(36,36,36)",
            "showbackground": true,
            "showgrid": false,
            "showline": true,
            "ticks": "outside",
            "zeroline": false,
            "zerolinecolor": "rgb(36,36,36)"
           }
          },
          "shapedefaults": {
           "fillcolor": "black",
           "line": {
            "width": 0
           },
           "opacity": 0.3
          },
          "ternary": {
           "aaxis": {
            "gridcolor": "rgb(232,232,232)",
            "linecolor": "rgb(36,36,36)",
            "showgrid": false,
            "showline": true,
            "ticks": "outside"
           },
           "baxis": {
            "gridcolor": "rgb(232,232,232)",
            "linecolor": "rgb(36,36,36)",
            "showgrid": false,
            "showline": true,
            "ticks": "outside"
           },
           "bgcolor": "white",
           "caxis": {
            "gridcolor": "rgb(232,232,232)",
            "linecolor": "rgb(36,36,36)",
            "showgrid": false,
            "showline": true,
            "ticks": "outside"
           }
          },
          "title": {
           "x": 0.05
          },
          "xaxis": {
           "automargin": true,
           "gridcolor": "rgb(232,232,232)",
           "linecolor": "rgb(36,36,36)",
           "showgrid": false,
           "showline": true,
           "ticks": "outside",
           "title": {
            "standoff": 15
           },
           "zeroline": false,
           "zerolinecolor": "rgb(36,36,36)"
          },
          "yaxis": {
           "automargin": true,
           "gridcolor": "rgb(232,232,232)",
           "linecolor": "rgb(36,36,36)",
           "showgrid": false,
           "showline": true,
           "ticks": "outside",
           "title": {
            "standoff": 15
           },
           "zeroline": false,
           "zerolinecolor": "rgb(36,36,36)"
          }
         }
        },
        "title": {
         "text": "One-Way Anova Results <br><i>Treatment: race/ethnicity | Response: Change between pre-test and post-test Scores<br><i>Level of Significance = 5%"
        },
        "xaxis": {
         "anchor": "y",
         "domain": [
          0,
          1
         ],
         "title": {
          "text": "question"
         }
        },
        "yaxis": {
         "anchor": "x",
         "domain": [
          0,
          1
         ],
         "title": {
          "text": "pvalue"
         }
        }
       }
      }
     },
     "metadata": {},
     "output_type": "display_data"
    }
   ],
   "source": [
    "px.bar(\n",
    "       results_df, x='question', y='pvalue',\n",
    "       color='result',\n",
    "       title='One-Way Anova Results <br><i>Treatment: race/ethnicity | Response: Change between pre-test and post-test Scores<br><i>Level of Significance = 5%',\n",
    "       text_auto=True, template='simple_white')"
   ]
  },
  {
   "cell_type": "markdown",
   "metadata": {},
   "source": [
    "Fishers LSD for questions 21"
   ]
  },
  {
   "cell_type": "code",
   "execution_count": null,
   "metadata": {},
   "outputs": [],
   "source": [
    "lsd = FishersLSD(df=race_data, treatment='race', response='delta', groupby='question', groupby_value='21', confidence=0.95)"
   ]
  },
  {
   "cell_type": "code",
   "execution_count": null,
   "metadata": {},
   "outputs": [],
   "source": [
    "lsd.table()"
   ]
  },
  {
   "cell_type": "code",
   "execution_count": null,
   "metadata": {},
   "outputs": [],
   "source": [
    "lsd.plot()"
   ]
  },
  {
   "cell_type": "markdown",
   "metadata": {},
   "source": [
    "Fishers LSD for Question 23"
   ]
  },
  {
   "cell_type": "code",
   "execution_count": null,
   "metadata": {},
   "outputs": [],
   "source": [
    "lsd = FishersLSD(df=race_data, treatment='race', response='delta', groupby='question', groupby_value='23', confidence=0.95)"
   ]
  },
  {
   "cell_type": "code",
   "execution_count": null,
   "metadata": {},
   "outputs": [],
   "source": [
    "lsd.table()"
   ]
  },
  {
   "cell_type": "code",
   "execution_count": null,
   "metadata": {},
   "outputs": [],
   "source": [
    "lsd.plot()"
   ]
  },
  {
   "cell_type": "code",
   "execution_count": null,
   "metadata": {},
   "outputs": [],
   "source": []
  }
 ],
 "metadata": {
  "kernelspec": {
   "display_name": "Python 3.9.12 ('base')",
   "language": "python",
   "name": "python3"
  },
  "language_info": {
   "codemirror_mode": {
    "name": "ipython",
    "version": 3
   },
   "file_extension": ".py",
   "mimetype": "text/x-python",
   "name": "python",
   "nbconvert_exporter": "python",
   "pygments_lexer": "ipython3",
   "version": "3.9.12"
  },
  "orig_nbformat": 4,
  "vscode": {
   "interpreter": {
    "hash": "a3623645c00eb53e2c29a497a6d0805b796fabfad7958413cef2b73065e0c692"
   }
  }
 },
 "nbformat": 4,
 "nbformat_minor": 2
}
